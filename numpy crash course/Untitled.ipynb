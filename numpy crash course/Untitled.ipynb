{
 "cells": [
  {
   "cell_type": "code",
   "execution_count": 3,
   "metadata": {},
   "outputs": [],
   "source": [
    "import numpy as np"
   ]
  },
  {
   "cell_type": "code",
   "execution_count": 4,
   "metadata": {},
   "outputs": [],
   "source": [
    "list1=[1,2,3,4,5,6]"
   ]
  },
  {
   "cell_type": "code",
   "execution_count": 5,
   "metadata": {},
   "outputs": [
    {
     "data": {
      "text/plain": [
       "[1, 2, 3, 4, 5, 6]"
      ]
     },
     "execution_count": 5,
     "metadata": {},
     "output_type": "execute_result"
    }
   ],
   "source": [
    "list1"
   ]
  },
  {
   "cell_type": "code",
   "execution_count": 6,
   "metadata": {},
   "outputs": [],
   "source": [
    "arr=np.array(list1)"
   ]
  },
  {
   "cell_type": "code",
   "execution_count": 7,
   "metadata": {},
   "outputs": [
    {
     "data": {
      "text/plain": [
       "array([1, 2, 3, 4, 5, 6])"
      ]
     },
     "execution_count": 7,
     "metadata": {},
     "output_type": "execute_result"
    }
   ],
   "source": [
    "arr"
   ]
  },
  {
   "cell_type": "code",
   "execution_count": 8,
   "metadata": {},
   "outputs": [
    {
     "ename": "TypeError",
     "evalue": "can only concatenate list (not \"int\") to list",
     "output_type": "error",
     "traceback": [
      "\u001b[1;31m---------------------------------------------------------------------------\u001b[0m",
      "\u001b[1;31mTypeError\u001b[0m                                 Traceback (most recent call last)",
      "\u001b[1;32m<ipython-input-8-c8a09858bf17>\u001b[0m in \u001b[0;36m<module>\u001b[1;34m\u001b[0m\n\u001b[1;32m----> 1\u001b[1;33m \u001b[0mlist1\u001b[0m\u001b[1;33m+\u001b[0m\u001b[1;36m2\u001b[0m\u001b[1;33m\u001b[0m\u001b[1;33m\u001b[0m\u001b[0m\n\u001b[0m",
      "\u001b[1;31mTypeError\u001b[0m: can only concatenate list (not \"int\") to list"
     ]
    }
   ],
   "source": [
    "list1+2"
   ]
  },
  {
   "cell_type": "code",
   "execution_count": 9,
   "metadata": {},
   "outputs": [
    {
     "data": {
      "text/plain": [
       "array([3, 4, 5, 6, 7, 8])"
      ]
     },
     "execution_count": 9,
     "metadata": {},
     "output_type": "execute_result"
    }
   ],
   "source": [
    "arr+2"
   ]
  },
  {
   "cell_type": "code",
   "execution_count": 10,
   "metadata": {},
   "outputs": [
    {
     "data": {
      "text/plain": [
       "array([[1, 1, 1],\n",
       "       [2, 2, 2],\n",
       "       [3, 3, 3]])"
      ]
     },
     "execution_count": 10,
     "metadata": {},
     "output_type": "execute_result"
    }
   ],
   "source": [
    "list2=[[1,1,1],[2,2,2],[3,3,3]]\n",
    "arr2=np.array(list2)\n",
    "arr2"
   ]
  },
  {
   "cell_type": "code",
   "execution_count": 11,
   "metadata": {},
   "outputs": [
    {
     "data": {
      "text/plain": [
       "numpy.ndarray"
      ]
     },
     "execution_count": 11,
     "metadata": {},
     "output_type": "execute_result"
    }
   ],
   "source": [
    "type(arr2)"
   ]
  },
  {
   "cell_type": "code",
   "execution_count": 12,
   "metadata": {},
   "outputs": [
    {
     "data": {
      "text/plain": [
       "dtype('int32')"
      ]
     },
     "execution_count": 12,
     "metadata": {},
     "output_type": "execute_result"
    }
   ],
   "source": [
    "arr2.dtype"
   ]
  },
  {
   "cell_type": "code",
   "execution_count": 13,
   "metadata": {},
   "outputs": [
    {
     "data": {
      "text/plain": [
       "array([[1., 1., 1.],\n",
       "       [2., 2., 2.],\n",
       "       [3., 3., 3.]])"
      ]
     },
     "execution_count": 13,
     "metadata": {},
     "output_type": "execute_result"
    }
   ],
   "source": [
    "arr2=np.array(list2,dtype='float')\n",
    "arr2"
   ]
  },
  {
   "cell_type": "code",
   "execution_count": 14,
   "metadata": {},
   "outputs": [
    {
     "data": {
      "text/plain": [
       "array([[1, 1, 1],\n",
       "       [2, 2, 2],\n",
       "       [3, 3, 3]])"
      ]
     },
     "execution_count": 14,
     "metadata": {},
     "output_type": "execute_result"
    }
   ],
   "source": [
    "arr2.astype('int')"
   ]
  },
  {
   "cell_type": "code",
   "execution_count": 15,
   "metadata": {},
   "outputs": [
    {
     "data": {
      "text/plain": [
       "array([['1.0', '1.0', '1.0'],\n",
       "       ['2.0', '2.0', '2.0'],\n",
       "       ['3.0', '3.0', '3.0']], dtype='<U32')"
      ]
     },
     "execution_count": 15,
     "metadata": {},
     "output_type": "execute_result"
    }
   ],
   "source": [
    "arr2.astype('str')"
   ]
  },
  {
   "cell_type": "code",
   "execution_count": 16,
   "metadata": {},
   "outputs": [
    {
     "data": {
      "text/plain": [
       "[[1.0, 1.0, 1.0], [2.0, 2.0, 2.0], [3.0, 3.0, 3.0]]"
      ]
     },
     "execution_count": 16,
     "metadata": {},
     "output_type": "execute_result"
    }
   ],
   "source": [
    "np2list=arr2.tolist()\n",
    "np2list"
   ]
  },
  {
   "cell_type": "code",
   "execution_count": 17,
   "metadata": {},
   "outputs": [
    {
     "data": {
      "text/plain": [
       "b'\\x00\\x00\\x00\\x00\\x00\\x00\\xf0?\\x00\\x00\\x00\\x00\\x00\\x00\\xf0?\\x00\\x00\\x00\\x00\\x00\\x00\\xf0?\\x00\\x00\\x00\\x00\\x00\\x00\\x00@\\x00\\x00\\x00\\x00\\x00\\x00\\x00@\\x00\\x00\\x00\\x00\\x00\\x00\\x00@\\x00\\x00\\x00\\x00\\x00\\x00\\x08@\\x00\\x00\\x00\\x00\\x00\\x00\\x08@\\x00\\x00\\x00\\x00\\x00\\x00\\x08@'"
      ]
     },
     "execution_count": 17,
     "metadata": {},
     "output_type": "execute_result"
    }
   ],
   "source": [
    "arr2.tostring()"
   ]
  },
  {
   "cell_type": "code",
   "execution_count": 18,
   "metadata": {},
   "outputs": [
    {
     "data": {
      "text/plain": [
       "b'\\x00\\x00\\x00\\x00\\x00\\x00\\xf0?\\x00\\x00\\x00\\x00\\x00\\x00\\xf0?\\x00\\x00\\x00\\x00\\x00\\x00\\xf0?\\x00\\x00\\x00\\x00\\x00\\x00\\x00@\\x00\\x00\\x00\\x00\\x00\\x00\\x00@\\x00\\x00\\x00\\x00\\x00\\x00\\x00@\\x00\\x00\\x00\\x00\\x00\\x00\\x08@\\x00\\x00\\x00\\x00\\x00\\x00\\x08@\\x00\\x00\\x00\\x00\\x00\\x00\\x08@'"
      ]
     },
     "execution_count": 18,
     "metadata": {},
     "output_type": "execute_result"
    }
   ],
   "source": [
    "arr2.tobytes()"
   ]
  },
  {
   "cell_type": "markdown",
   "metadata": {},
   "source": [
    "# dtype and shape"
   ]
  },
  {
   "cell_type": "code",
   "execution_count": 19,
   "metadata": {},
   "outputs": [
    {
     "data": {
      "text/plain": [
       "[[1, 1, 1], [2, 2, 2], [3, 3, 3]]"
      ]
     },
     "execution_count": 19,
     "metadata": {},
     "output_type": "execute_result"
    }
   ],
   "source": [
    "list2"
   ]
  },
  {
   "cell_type": "code",
   "execution_count": 20,
   "metadata": {},
   "outputs": [
    {
     "data": {
      "text/plain": [
       "array([[1., 1., 1.],\n",
       "       [2., 2., 2.],\n",
       "       [3., 3., 3.]])"
      ]
     },
     "execution_count": 20,
     "metadata": {},
     "output_type": "execute_result"
    }
   ],
   "source": [
    "arr2.astype(float)"
   ]
  },
  {
   "cell_type": "code",
   "execution_count": 21,
   "metadata": {},
   "outputs": [
    {
     "name": "stdout",
     "output_type": "stream",
     "text": [
      "Shape: (3, 3)\n"
     ]
    }
   ],
   "source": [
    "print('Shape:',arr2.shape)"
   ]
  },
  {
   "cell_type": "code",
   "execution_count": 22,
   "metadata": {},
   "outputs": [
    {
     "data": {
      "text/plain": [
       "9"
      ]
     },
     "execution_count": 22,
     "metadata": {},
     "output_type": "execute_result"
    }
   ],
   "source": [
    "arr2.size"
   ]
  },
  {
   "cell_type": "code",
   "execution_count": 23,
   "metadata": {},
   "outputs": [
    {
     "data": {
      "text/plain": [
       "6"
      ]
     },
     "execution_count": 23,
     "metadata": {},
     "output_type": "execute_result"
    }
   ],
   "source": [
    "arr.size"
   ]
  },
  {
   "cell_type": "code",
   "execution_count": 24,
   "metadata": {},
   "outputs": [
    {
     "data": {
      "text/plain": [
       "dtype('float64')"
      ]
     },
     "execution_count": 24,
     "metadata": {},
     "output_type": "execute_result"
    }
   ],
   "source": [
    "arr2.dtype"
   ]
  },
  {
   "cell_type": "code",
   "execution_count": 25,
   "metadata": {},
   "outputs": [
    {
     "data": {
      "text/plain": [
       "1"
      ]
     },
     "execution_count": 25,
     "metadata": {},
     "output_type": "execute_result"
    }
   ],
   "source": [
    "arr.ndim"
   ]
  },
  {
   "cell_type": "code",
   "execution_count": 26,
   "metadata": {},
   "outputs": [
    {
     "data": {
      "text/plain": [
       "2"
      ]
     },
     "execution_count": 26,
     "metadata": {},
     "output_type": "execute_result"
    }
   ],
   "source": [
    "arr2.ndim"
   ]
  },
  {
   "cell_type": "markdown",
   "metadata": {},
   "source": [
    "extracting an element from array"
   ]
  },
  {
   "cell_type": "code",
   "execution_count": 27,
   "metadata": {},
   "outputs": [
    {
     "data": {
      "text/plain": [
       "array([1., 1., 1.])"
      ]
     },
     "execution_count": 27,
     "metadata": {},
     "output_type": "execute_result"
    }
   ],
   "source": [
    "arr2[0]"
   ]
  },
  {
   "cell_type": "code",
   "execution_count": 28,
   "metadata": {},
   "outputs": [
    {
     "data": {
      "text/plain": [
       "3.0"
      ]
     },
     "execution_count": 28,
     "metadata": {},
     "output_type": "execute_result"
    }
   ],
   "source": [
    "arr2[2][2]"
   ]
  },
  {
   "cell_type": "code",
   "execution_count": 29,
   "metadata": {},
   "outputs": [
    {
     "data": {
      "text/plain": [
       "4"
      ]
     },
     "execution_count": 29,
     "metadata": {},
     "output_type": "execute_result"
    }
   ],
   "source": [
    "arr[3]"
   ]
  },
  {
   "cell_type": "code",
   "execution_count": 30,
   "metadata": {},
   "outputs": [],
   "source": [
    "boolarr=arr2<2"
   ]
  },
  {
   "cell_type": "code",
   "execution_count": 31,
   "metadata": {},
   "outputs": [
    {
     "data": {
      "text/plain": [
       "array([[ True,  True,  True],\n",
       "       [False, False, False],\n",
       "       [False, False, False]])"
      ]
     },
     "execution_count": 31,
     "metadata": {},
     "output_type": "execute_result"
    }
   ],
   "source": [
    "boolarr\n"
   ]
  },
  {
   "cell_type": "code",
   "execution_count": null,
   "metadata": {},
   "outputs": [],
   "source": []
  },
  {
   "cell_type": "code",
   "execution_count": 32,
   "metadata": {},
   "outputs": [],
   "source": [
    "list3=[[1,2,3],[4,5,6],[7,8,9]]\n",
    "ar=np.array(list3)"
   ]
  },
  {
   "cell_type": "code",
   "execution_count": 33,
   "metadata": {},
   "outputs": [
    {
     "data": {
      "text/plain": [
       "array([[1, 2, 3],\n",
       "       [4, 5, 6],\n",
       "       [7, 8, 9]])"
      ]
     },
     "execution_count": 33,
     "metadata": {},
     "output_type": "execute_result"
    }
   ],
   "source": [
    "ar"
   ]
  },
  {
   "cell_type": "code",
   "execution_count": 34,
   "metadata": {},
   "outputs": [
    {
     "data": {
      "text/plain": [
       "array([[7, 8, 9],\n",
       "       [4, 5, 6],\n",
       "       [1, 2, 3]])"
      ]
     },
     "execution_count": 34,
     "metadata": {},
     "output_type": "execute_result"
    }
   ],
   "source": [
    "ar[::-1, ]"
   ]
  },
  {
   "cell_type": "code",
   "execution_count": 35,
   "metadata": {},
   "outputs": [
    {
     "data": {
      "text/plain": [
       "array([[9, 8, 7],\n",
       "       [6, 5, 4],\n",
       "       [3, 2, 1]])"
      ]
     },
     "execution_count": 35,
     "metadata": {},
     "output_type": "execute_result"
    }
   ],
   "source": [
    "ar[::-1,::-1]"
   ]
  },
  {
   "cell_type": "markdown",
   "metadata": {},
   "source": [
    "# np.nan and np.inf"
   ]
  },
  {
   "cell_type": "code",
   "execution_count": 36,
   "metadata": {},
   "outputs": [
    {
     "data": {
      "text/plain": [
       "nan"
      ]
     },
     "execution_count": 36,
     "metadata": {},
     "output_type": "execute_result"
    }
   ],
   "source": [
    "np.nan"
   ]
  },
  {
   "cell_type": "code",
   "execution_count": 37,
   "metadata": {},
   "outputs": [
    {
     "data": {
      "text/plain": [
       "inf"
      ]
     },
     "execution_count": 37,
     "metadata": {},
     "output_type": "execute_result"
    }
   ],
   "source": [
    "np.inf"
   ]
  },
  {
   "cell_type": "code",
   "execution_count": 38,
   "metadata": {},
   "outputs": [
    {
     "data": {
      "text/plain": [
       "array([[nan, inf,  1.],\n",
       "       [ 2.,  2.,  2.],\n",
       "       [ 3.,  3.,  3.]])"
      ]
     },
     "execution_count": 38,
     "metadata": {},
     "output_type": "execute_result"
    }
   ],
   "source": [
    "arr2[0][0]=np.nan\n",
    "arr2[0][1]=np.inf\n",
    "arr2"
   ]
  },
  {
   "cell_type": "code",
   "execution_count": 39,
   "metadata": {},
   "outputs": [
    {
     "data": {
      "text/plain": [
       "array([[ True, False, False],\n",
       "       [False, False, False],\n",
       "       [False, False, False]])"
      ]
     },
     "execution_count": 39,
     "metadata": {},
     "output_type": "execute_result"
    }
   ],
   "source": [
    "np.isnan(arr2)"
   ]
  },
  {
   "cell_type": "code",
   "execution_count": 40,
   "metadata": {},
   "outputs": [
    {
     "data": {
      "text/plain": [
       "array([[False,  True, False],\n",
       "       [False, False, False],\n",
       "       [False, False, False]])"
      ]
     },
     "execution_count": 40,
     "metadata": {},
     "output_type": "execute_result"
    }
   ],
   "source": [
    "np.isinf(arr2)"
   ]
  },
  {
   "cell_type": "code",
   "execution_count": 41,
   "metadata": {},
   "outputs": [
    {
     "data": {
      "text/plain": [
       "array([[ True,  True, False],\n",
       "       [False, False, False],\n",
       "       [False, False, False]])"
      ]
     },
     "execution_count": 41,
     "metadata": {},
     "output_type": "execute_result"
    }
   ],
   "source": [
    "missing_val=np.isnan(arr2) | np.isinf(arr2)\n",
    "missing_val"
   ]
  },
  {
   "cell_type": "code",
   "execution_count": 42,
   "metadata": {},
   "outputs": [],
   "source": [
    "arr2[missing_val]=0"
   ]
  },
  {
   "cell_type": "code",
   "execution_count": 43,
   "metadata": {},
   "outputs": [
    {
     "data": {
      "text/plain": [
       "array([[0., 0., 1.],\n",
       "       [2., 2., 2.],\n",
       "       [3., 3., 3.]])"
      ]
     },
     "execution_count": 43,
     "metadata": {},
     "output_type": "execute_result"
    }
   ],
   "source": [
    "arr2"
   ]
  },
  {
   "cell_type": "markdown",
   "metadata": {},
   "source": [
    "# statistical operations "
   ]
  },
  {
   "cell_type": "code",
   "execution_count": 44,
   "metadata": {},
   "outputs": [
    {
     "data": {
      "text/plain": [
       "1.7777777777777777"
      ]
     },
     "execution_count": 44,
     "metadata": {},
     "output_type": "execute_result"
    }
   ],
   "source": [
    "arr2.mean()"
   ]
  },
  {
   "cell_type": "code",
   "execution_count": 45,
   "metadata": {},
   "outputs": [
    {
     "data": {
      "text/plain": [
       "3.0"
      ]
     },
     "execution_count": 45,
     "metadata": {},
     "output_type": "execute_result"
    }
   ],
   "source": [
    "arr2.max()"
   ]
  },
  {
   "cell_type": "code",
   "execution_count": 46,
   "metadata": {},
   "outputs": [
    {
     "data": {
      "text/plain": [
       "0.0"
      ]
     },
     "execution_count": 46,
     "metadata": {},
     "output_type": "execute_result"
    }
   ],
   "source": [
    "arr2.min()"
   ]
  },
  {
   "cell_type": "code",
   "execution_count": 47,
   "metadata": {},
   "outputs": [
    {
     "data": {
      "text/plain": [
       "1.1331154474650633"
      ]
     },
     "execution_count": 47,
     "metadata": {},
     "output_type": "execute_result"
    }
   ],
   "source": [
    "arr2.std()"
   ]
  },
  {
   "cell_type": "code",
   "execution_count": 48,
   "metadata": {},
   "outputs": [
    {
     "data": {
      "text/plain": [
       "1.2839506172839505"
      ]
     },
     "execution_count": 48,
     "metadata": {},
     "output_type": "execute_result"
    }
   ],
   "source": [
    "arr2.var()"
   ]
  },
  {
   "cell_type": "code",
   "execution_count": 49,
   "metadata": {},
   "outputs": [
    {
     "data": {
      "text/plain": [
       "array([ 0.,  0.,  1.,  3.,  5.,  7., 10., 13., 16.])"
      ]
     },
     "execution_count": 49,
     "metadata": {},
     "output_type": "execute_result"
    }
   ],
   "source": [
    "arr2.cumsum()"
   ]
  },
  {
   "cell_type": "code",
   "execution_count": 50,
   "metadata": {},
   "outputs": [],
   "source": [
    "a=arr2[:2,:2]"
   ]
  },
  {
   "cell_type": "code",
   "execution_count": 51,
   "metadata": {},
   "outputs": [
    {
     "data": {
      "text/plain": [
       "array([[0., 0., 1.],\n",
       "       [2., 2., 2.],\n",
       "       [3., 3., 3.]])"
      ]
     },
     "execution_count": 51,
     "metadata": {},
     "output_type": "execute_result"
    }
   ],
   "source": [
    "arr2"
   ]
  },
  {
   "cell_type": "code",
   "execution_count": 52,
   "metadata": {},
   "outputs": [
    {
     "data": {
      "text/plain": [
       "array([[0., 0.],\n",
       "       [2., 2.]])"
      ]
     },
     "execution_count": 52,
     "metadata": {},
     "output_type": "execute_result"
    }
   ],
   "source": [
    "a"
   ]
  },
  {
   "cell_type": "code",
   "execution_count": 53,
   "metadata": {},
   "outputs": [
    {
     "data": {
      "text/plain": [
       "array([[0.],\n",
       "       [0.],\n",
       "       [1.],\n",
       "       [2.],\n",
       "       [2.],\n",
       "       [2.],\n",
       "       [3.],\n",
       "       [3.],\n",
       "       [3.]])"
      ]
     },
     "execution_count": 53,
     "metadata": {},
     "output_type": "execute_result"
    }
   ],
   "source": [
    "arr2.reshape(9,1)"
   ]
  },
  {
   "cell_type": "code",
   "execution_count": 54,
   "metadata": {},
   "outputs": [
    {
     "data": {
      "text/plain": [
       "array([0., 0., 1., 2., 2., 2., 3., 3., 3.])"
      ]
     },
     "execution_count": 54,
     "metadata": {},
     "output_type": "execute_result"
    }
   ],
   "source": [
    "arr2.flatten()"
   ]
  },
  {
   "cell_type": "markdown",
   "metadata": {},
   "source": [
    "# sequence , repetition and random numbers"
   ]
  },
  {
   "cell_type": "code",
   "execution_count": 55,
   "metadata": {},
   "outputs": [
    {
     "data": {
      "text/plain": [
       "array([1., 2., 3., 4.])"
      ]
     },
     "execution_count": 55,
     "metadata": {},
     "output_type": "execute_result"
    }
   ],
   "source": [
    "np.arange(1,5,dtype='float')"
   ]
  },
  {
   "cell_type": "code",
   "execution_count": 56,
   "metadata": {},
   "outputs": [
    {
     "data": {
      "text/plain": [
       "array([ 1.  ,  2.75,  4.5 ,  6.25,  8.  ,  9.75, 11.5 , 13.25, 15.  ])"
      ]
     },
     "execution_count": 56,
     "metadata": {},
     "output_type": "execute_result"
    }
   ],
   "source": [
    "np.linspace(1,15,9)"
   ]
  },
  {
   "cell_type": "code",
   "execution_count": 57,
   "metadata": {},
   "outputs": [
    {
     "data": {
      "text/plain": [
       "array([0., 0., 0., 0., 0.])"
      ]
     },
     "execution_count": 57,
     "metadata": {},
     "output_type": "execute_result"
    }
   ],
   "source": [
    "np.zeros(5)"
   ]
  },
  {
   "cell_type": "code",
   "execution_count": 58,
   "metadata": {},
   "outputs": [
    {
     "data": {
      "text/plain": [
       "array([1., 1.])"
      ]
     },
     "execution_count": 58,
     "metadata": {},
     "output_type": "execute_result"
    }
   ],
   "source": [
    "np.ones(2)"
   ]
  },
  {
   "cell_type": "code",
   "execution_count": 59,
   "metadata": {},
   "outputs": [
    {
     "data": {
      "text/plain": [
       "array([[1., 1.],\n",
       "       [1., 1.]])"
      ]
     },
     "execution_count": 59,
     "metadata": {},
     "output_type": "execute_result"
    }
   ],
   "source": [
    "np.ones((2,2))"
   ]
  },
  {
   "cell_type": "code",
   "execution_count": 60,
   "metadata": {},
   "outputs": [
    {
     "data": {
      "text/plain": [
       "array([0., 0., 0., 0., 0., 0., 1., 1., 1., 2., 2., 2., 2., 2., 2., 2., 2.,\n",
       "       2., 3., 3., 3., 3., 3., 3., 3., 3., 3.])"
      ]
     },
     "execution_count": 60,
     "metadata": {},
     "output_type": "execute_result"
    }
   ],
   "source": [
    "np.repeat(arr2, repeats = 3)"
   ]
  },
  {
   "cell_type": "code",
   "execution_count": 61,
   "metadata": {},
   "outputs": [
    {
     "data": {
      "text/plain": [
       "array([[0., 0., 0., 0., 0., 0., 1., 1., 1.],\n",
       "       [2., 2., 2., 2., 2., 2., 2., 2., 2.],\n",
       "       [3., 3., 3., 3., 3., 3., 3., 3., 3.]])"
      ]
     },
     "execution_count": 61,
     "metadata": {},
     "output_type": "execute_result"
    }
   ],
   "source": [
    "np.repeat(arr2, repeats = 3, axis = 1)"
   ]
  },
  {
   "cell_type": "code",
   "execution_count": 62,
   "metadata": {},
   "outputs": [
    {
     "data": {
      "text/plain": [
       "array([[0., 0., 1.],\n",
       "       [0., 0., 1.],\n",
       "       [0., 0., 1.],\n",
       "       [2., 2., 2.],\n",
       "       [2., 2., 2.],\n",
       "       [2., 2., 2.],\n",
       "       [3., 3., 3.],\n",
       "       [3., 3., 3.],\n",
       "       [3., 3., 3.]])"
      ]
     },
     "execution_count": 62,
     "metadata": {},
     "output_type": "execute_result"
    }
   ],
   "source": [
    "np.repeat(arr2, repeats = 3, axis = 0)"
   ]
  },
  {
   "cell_type": "code",
   "execution_count": 63,
   "metadata": {},
   "outputs": [
    {
     "data": {
      "text/plain": [
       "array([[0.02683963, 0.45716257, 0.34898383],\n",
       "       [0.4425585 , 0.70698771, 0.75765188],\n",
       "       [0.50604455, 0.0913549 , 0.82014697]])"
      ]
     },
     "execution_count": 63,
     "metadata": {},
     "output_type": "execute_result"
    }
   ],
   "source": [
    "np.random.rand(3,3)"
   ]
  },
  {
   "cell_type": "code",
   "execution_count": 64,
   "metadata": {},
   "outputs": [
    {
     "data": {
      "text/plain": [
       "array([[ 1.15535202,  1.154525  , -0.88005766],\n",
       "       [-1.64572169,  0.32271451,  3.34451918],\n",
       "       [ 0.55736835, -1.84888023, -0.05056205]])"
      ]
     },
     "execution_count": 64,
     "metadata": {},
     "output_type": "execute_result"
    }
   ],
   "source": [
    "\n",
    "np.random.randn(3,3)"
   ]
  },
  {
   "cell_type": "code",
   "execution_count": 65,
   "metadata": {},
   "outputs": [
    {
     "data": {
      "text/plain": [
       "574"
      ]
     },
     "execution_count": 65,
     "metadata": {},
     "output_type": "execute_result"
    }
   ],
   "source": [
    "np.random.randint(3,789)"
   ]
  },
  {
   "cell_type": "code",
   "execution_count": 66,
   "metadata": {},
   "outputs": [],
   "source": [
    "np.random.seed(0)"
   ]
  },
  {
   "cell_type": "code",
   "execution_count": 67,
   "metadata": {},
   "outputs": [
    {
     "data": {
      "text/plain": [
       "array([0., 1., 2., 3.])"
      ]
     },
     "execution_count": 67,
     "metadata": {},
     "output_type": "execute_result"
    }
   ],
   "source": [
    "np.unique(arr2)"
   ]
  },
  {
   "cell_type": "code",
   "execution_count": 68,
   "metadata": {},
   "outputs": [],
   "source": [
    "uniques, counts = np.unique(arr2,return_counts = True)"
   ]
  },
  {
   "cell_type": "code",
   "execution_count": 69,
   "metadata": {},
   "outputs": [
    {
     "data": {
      "text/plain": [
       "array([0., 1., 2., 3.])"
      ]
     },
     "execution_count": 69,
     "metadata": {},
     "output_type": "execute_result"
    }
   ],
   "source": [
    "uniques"
   ]
  },
  {
   "cell_type": "code",
   "execution_count": 70,
   "metadata": {},
   "outputs": [
    {
     "data": {
      "text/plain": [
       "array([2, 1, 3, 3], dtype=int64)"
      ]
     },
     "execution_count": 70,
     "metadata": {},
     "output_type": "execute_result"
    }
   ],
   "source": [
    " counts"
   ]
  },
  {
   "cell_type": "markdown",
   "metadata": {},
   "source": [
    "# numpy part 2"
   ]
  },
  {
   "cell_type": "code",
   "execution_count": 77,
   "metadata": {},
   "outputs": [
    {
     "data": {
      "text/plain": [
       "array([14,  2, 34, 68,  4,  7,  9, 23])"
      ]
     },
     "execution_count": 77,
     "metadata": {},
     "output_type": "execute_result"
    }
   ],
   "source": [
    "arr=np.array([14,2,34,68,4,7,9,23])\n",
    "arr"
   ]
  },
  {
   "cell_type": "code",
   "execution_count": 78,
   "metadata": {},
   "outputs": [
    {
     "data": {
      "text/plain": [
       "(array([0, 1, 4, 5, 6], dtype=int64),)"
      ]
     },
     "execution_count": 78,
     "metadata": {},
     "output_type": "execute_result"
    }
   ],
   "source": [
    "index_gt15=np.where(arr<15)\n",
    "index_gt15"
   ]
  },
  {
   "cell_type": "code",
   "execution_count": 79,
   "metadata": {},
   "outputs": [
    {
     "data": {
      "text/plain": [
       "array([14,  2,  4,  7,  9])"
      ]
     },
     "execution_count": 79,
     "metadata": {},
     "output_type": "execute_result"
    }
   ],
   "source": [
    "arr[index_gt15]"
   ]
  },
  {
   "cell_type": "code",
   "execution_count": 80,
   "metadata": {},
   "outputs": [
    {
     "data": {
      "text/plain": [
       "array([14,  2,  4,  7,  9])"
      ]
     },
     "execution_count": 80,
     "metadata": {},
     "output_type": "execute_result"
    }
   ],
   "source": [
    "arr[arr<15]"
   ]
  },
  {
   "cell_type": "code",
   "execution_count": 81,
   "metadata": {},
   "outputs": [
    {
     "data": {
      "text/plain": [
       "array([ True,  True, False, False,  True,  True,  True, False])"
      ]
     },
     "execution_count": 81,
     "metadata": {},
     "output_type": "execute_result"
    }
   ],
   "source": [
    "arr<15"
   ]
  },
  {
   "cell_type": "code",
   "execution_count": 82,
   "metadata": {},
   "outputs": [
    {
     "data": {
      "text/plain": [
       "array(['lt15', 'lt15', 'gt15', 'gt15', 'lt15', 'lt15', 'lt15', 'gt15'],\n",
       "      dtype='<U4')"
      ]
     },
     "execution_count": 82,
     "metadata": {},
     "output_type": "execute_result"
    }
   ],
   "source": [
    "np.where(arr<15,'lt15','gt15')"
   ]
  },
  {
   "cell_type": "code",
   "execution_count": null,
   "metadata": {},
   "outputs": [],
   "source": []
  },
  {
   "cell_type": "code",
   "execution_count": 83,
   "metadata": {},
   "outputs": [
    {
     "data": {
      "text/plain": [
       "array([14,  2, 34, 68,  4,  7,  9, 23])"
      ]
     },
     "execution_count": 83,
     "metadata": {},
     "output_type": "execute_result"
    }
   ],
   "source": [
    "arr"
   ]
  },
  {
   "cell_type": "code",
   "execution_count": 84,
   "metadata": {},
   "outputs": [
    {
     "data": {
      "text/plain": [
       "68"
      ]
     },
     "execution_count": 84,
     "metadata": {},
     "output_type": "execute_result"
    }
   ],
   "source": [
    "arr.max()"
   ]
  },
  {
   "cell_type": "code",
   "execution_count": 85,
   "metadata": {},
   "outputs": [
    {
     "data": {
      "text/plain": [
       "3"
      ]
     },
     "execution_count": 85,
     "metadata": {},
     "output_type": "execute_result"
    }
   ],
   "source": [
    "arr.argmax()"
   ]
  },
  {
   "cell_type": "code",
   "execution_count": 86,
   "metadata": {},
   "outputs": [
    {
     "data": {
      "text/plain": [
       "68"
      ]
     },
     "execution_count": 86,
     "metadata": {},
     "output_type": "execute_result"
    }
   ],
   "source": [
    "arr[arr.argmax()]"
   ]
  },
  {
   "cell_type": "code",
   "execution_count": 87,
   "metadata": {},
   "outputs": [
    {
     "data": {
      "text/plain": [
       "2"
      ]
     },
     "execution_count": 87,
     "metadata": {},
     "output_type": "execute_result"
    }
   ],
   "source": [
    "arr.min()"
   ]
  },
  {
   "cell_type": "code",
   "execution_count": 88,
   "metadata": {},
   "outputs": [
    {
     "data": {
      "text/plain": [
       "1"
      ]
     },
     "execution_count": 88,
     "metadata": {},
     "output_type": "execute_result"
    }
   ],
   "source": [
    "arr.argmin()"
   ]
  },
  {
   "cell_type": "code",
   "execution_count": 89,
   "metadata": {},
   "outputs": [
    {
     "data": {
      "text/plain": [
       "2"
      ]
     },
     "execution_count": 89,
     "metadata": {},
     "output_type": "execute_result"
    }
   ],
   "source": [
    "arr[arr.argmin()]"
   ]
  },
  {
   "cell_type": "code",
   "execution_count": 91,
   "metadata": {},
   "outputs": [],
   "source": [
    "dt2 = np.genfromtxt('https://raw.githubusercontent.com/mwaskom/seaborn-data/master/iris.csv',delimiter = ',',\n",
    "                      skip_header = 1,filling_values = -1000, dtype = 'float')"
   ]
  },
  {
   "cell_type": "code",
   "execution_count": 92,
   "metadata": {},
   "outputs": [
    {
     "data": {
      "text/plain": [
       "array([[    5.1,     3.5,     1.4,     0.2, -1000. ],\n",
       "       [    4.9,     3. ,     1.4,     0.2, -1000. ],\n",
       "       [    4.7,     3.2,     1.3,     0.2, -1000. ],\n",
       "       [    4.6,     3.1,     1.5,     0.2, -1000. ],\n",
       "       [    5. ,     3.6,     1.4,     0.2, -1000. ],\n",
       "       [    5.4,     3.9,     1.7,     0.4, -1000. ],\n",
       "       [    4.6,     3.4,     1.4,     0.3, -1000. ],\n",
       "       [    5. ,     3.4,     1.5,     0.2, -1000. ],\n",
       "       [    4.4,     2.9,     1.4,     0.2, -1000. ],\n",
       "       [    4.9,     3.1,     1.5,     0.1, -1000. ],\n",
       "       [    5.4,     3.7,     1.5,     0.2, -1000. ],\n",
       "       [    4.8,     3.4,     1.6,     0.2, -1000. ],\n",
       "       [    4.8,     3. ,     1.4,     0.1, -1000. ],\n",
       "       [    4.3,     3. ,     1.1,     0.1, -1000. ],\n",
       "       [    5.8,     4. ,     1.2,     0.2, -1000. ],\n",
       "       [    5.7,     4.4,     1.5,     0.4, -1000. ],\n",
       "       [    5.4,     3.9,     1.3,     0.4, -1000. ],\n",
       "       [    5.1,     3.5,     1.4,     0.3, -1000. ],\n",
       "       [    5.7,     3.8,     1.7,     0.3, -1000. ],\n",
       "       [    5.1,     3.8,     1.5,     0.3, -1000. ],\n",
       "       [    5.4,     3.4,     1.7,     0.2, -1000. ],\n",
       "       [    5.1,     3.7,     1.5,     0.4, -1000. ],\n",
       "       [    4.6,     3.6,     1. ,     0.2, -1000. ],\n",
       "       [    5.1,     3.3,     1.7,     0.5, -1000. ],\n",
       "       [    4.8,     3.4,     1.9,     0.2, -1000. ],\n",
       "       [    5. ,     3. ,     1.6,     0.2, -1000. ],\n",
       "       [    5. ,     3.4,     1.6,     0.4, -1000. ],\n",
       "       [    5.2,     3.5,     1.5,     0.2, -1000. ],\n",
       "       [    5.2,     3.4,     1.4,     0.2, -1000. ],\n",
       "       [    4.7,     3.2,     1.6,     0.2, -1000. ],\n",
       "       [    4.8,     3.1,     1.6,     0.2, -1000. ],\n",
       "       [    5.4,     3.4,     1.5,     0.4, -1000. ],\n",
       "       [    5.2,     4.1,     1.5,     0.1, -1000. ],\n",
       "       [    5.5,     4.2,     1.4,     0.2, -1000. ],\n",
       "       [    4.9,     3.1,     1.5,     0.2, -1000. ],\n",
       "       [    5. ,     3.2,     1.2,     0.2, -1000. ],\n",
       "       [    5.5,     3.5,     1.3,     0.2, -1000. ],\n",
       "       [    4.9,     3.6,     1.4,     0.1, -1000. ],\n",
       "       [    4.4,     3. ,     1.3,     0.2, -1000. ],\n",
       "       [    5.1,     3.4,     1.5,     0.2, -1000. ],\n",
       "       [    5. ,     3.5,     1.3,     0.3, -1000. ],\n",
       "       [    4.5,     2.3,     1.3,     0.3, -1000. ],\n",
       "       [    4.4,     3.2,     1.3,     0.2, -1000. ],\n",
       "       [    5. ,     3.5,     1.6,     0.6, -1000. ],\n",
       "       [    5.1,     3.8,     1.9,     0.4, -1000. ],\n",
       "       [    4.8,     3. ,     1.4,     0.3, -1000. ],\n",
       "       [    5.1,     3.8,     1.6,     0.2, -1000. ],\n",
       "       [    4.6,     3.2,     1.4,     0.2, -1000. ],\n",
       "       [    5.3,     3.7,     1.5,     0.2, -1000. ],\n",
       "       [    5. ,     3.3,     1.4,     0.2, -1000. ],\n",
       "       [    7. ,     3.2,     4.7,     1.4, -1000. ],\n",
       "       [    6.4,     3.2,     4.5,     1.5, -1000. ],\n",
       "       [    6.9,     3.1,     4.9,     1.5, -1000. ],\n",
       "       [    5.5,     2.3,     4. ,     1.3, -1000. ],\n",
       "       [    6.5,     2.8,     4.6,     1.5, -1000. ],\n",
       "       [    5.7,     2.8,     4.5,     1.3, -1000. ],\n",
       "       [    6.3,     3.3,     4.7,     1.6, -1000. ],\n",
       "       [    4.9,     2.4,     3.3,     1. , -1000. ],\n",
       "       [    6.6,     2.9,     4.6,     1.3, -1000. ],\n",
       "       [    5.2,     2.7,     3.9,     1.4, -1000. ],\n",
       "       [    5. ,     2. ,     3.5,     1. , -1000. ],\n",
       "       [    5.9,     3. ,     4.2,     1.5, -1000. ],\n",
       "       [    6. ,     2.2,     4. ,     1. , -1000. ],\n",
       "       [    6.1,     2.9,     4.7,     1.4, -1000. ],\n",
       "       [    5.6,     2.9,     3.6,     1.3, -1000. ],\n",
       "       [    6.7,     3.1,     4.4,     1.4, -1000. ],\n",
       "       [    5.6,     3. ,     4.5,     1.5, -1000. ],\n",
       "       [    5.8,     2.7,     4.1,     1. , -1000. ],\n",
       "       [    6.2,     2.2,     4.5,     1.5, -1000. ],\n",
       "       [    5.6,     2.5,     3.9,     1.1, -1000. ],\n",
       "       [    5.9,     3.2,     4.8,     1.8, -1000. ],\n",
       "       [    6.1,     2.8,     4. ,     1.3, -1000. ],\n",
       "       [    6.3,     2.5,     4.9,     1.5, -1000. ],\n",
       "       [    6.1,     2.8,     4.7,     1.2, -1000. ],\n",
       "       [    6.4,     2.9,     4.3,     1.3, -1000. ],\n",
       "       [    6.6,     3. ,     4.4,     1.4, -1000. ],\n",
       "       [    6.8,     2.8,     4.8,     1.4, -1000. ],\n",
       "       [    6.7,     3. ,     5. ,     1.7, -1000. ],\n",
       "       [    6. ,     2.9,     4.5,     1.5, -1000. ],\n",
       "       [    5.7,     2.6,     3.5,     1. , -1000. ],\n",
       "       [    5.5,     2.4,     3.8,     1.1, -1000. ],\n",
       "       [    5.5,     2.4,     3.7,     1. , -1000. ],\n",
       "       [    5.8,     2.7,     3.9,     1.2, -1000. ],\n",
       "       [    6. ,     2.7,     5.1,     1.6, -1000. ],\n",
       "       [    5.4,     3. ,     4.5,     1.5, -1000. ],\n",
       "       [    6. ,     3.4,     4.5,     1.6, -1000. ],\n",
       "       [    6.7,     3.1,     4.7,     1.5, -1000. ],\n",
       "       [    6.3,     2.3,     4.4,     1.3, -1000. ],\n",
       "       [    5.6,     3. ,     4.1,     1.3, -1000. ],\n",
       "       [    5.5,     2.5,     4. ,     1.3, -1000. ],\n",
       "       [    5.5,     2.6,     4.4,     1.2, -1000. ],\n",
       "       [    6.1,     3. ,     4.6,     1.4, -1000. ],\n",
       "       [    5.8,     2.6,     4. ,     1.2, -1000. ],\n",
       "       [    5. ,     2.3,     3.3,     1. , -1000. ],\n",
       "       [    5.6,     2.7,     4.2,     1.3, -1000. ],\n",
       "       [    5.7,     3. ,     4.2,     1.2, -1000. ],\n",
       "       [    5.7,     2.9,     4.2,     1.3, -1000. ],\n",
       "       [    6.2,     2.9,     4.3,     1.3, -1000. ],\n",
       "       [    5.1,     2.5,     3. ,     1.1, -1000. ],\n",
       "       [    5.7,     2.8,     4.1,     1.3, -1000. ],\n",
       "       [    6.3,     3.3,     6. ,     2.5, -1000. ],\n",
       "       [    5.8,     2.7,     5.1,     1.9, -1000. ],\n",
       "       [    7.1,     3. ,     5.9,     2.1, -1000. ],\n",
       "       [    6.3,     2.9,     5.6,     1.8, -1000. ],\n",
       "       [    6.5,     3. ,     5.8,     2.2, -1000. ],\n",
       "       [    7.6,     3. ,     6.6,     2.1, -1000. ],\n",
       "       [    4.9,     2.5,     4.5,     1.7, -1000. ],\n",
       "       [    7.3,     2.9,     6.3,     1.8, -1000. ],\n",
       "       [    6.7,     2.5,     5.8,     1.8, -1000. ],\n",
       "       [    7.2,     3.6,     6.1,     2.5, -1000. ],\n",
       "       [    6.5,     3.2,     5.1,     2. , -1000. ],\n",
       "       [    6.4,     2.7,     5.3,     1.9, -1000. ],\n",
       "       [    6.8,     3. ,     5.5,     2.1, -1000. ],\n",
       "       [    5.7,     2.5,     5. ,     2. , -1000. ],\n",
       "       [    5.8,     2.8,     5.1,     2.4, -1000. ],\n",
       "       [    6.4,     3.2,     5.3,     2.3, -1000. ],\n",
       "       [    6.5,     3. ,     5.5,     1.8, -1000. ],\n",
       "       [    7.7,     3.8,     6.7,     2.2, -1000. ],\n",
       "       [    7.7,     2.6,     6.9,     2.3, -1000. ],\n",
       "       [    6. ,     2.2,     5. ,     1.5, -1000. ],\n",
       "       [    6.9,     3.2,     5.7,     2.3, -1000. ],\n",
       "       [    5.6,     2.8,     4.9,     2. , -1000. ],\n",
       "       [    7.7,     2.8,     6.7,     2. , -1000. ],\n",
       "       [    6.3,     2.7,     4.9,     1.8, -1000. ],\n",
       "       [    6.7,     3.3,     5.7,     2.1, -1000. ],\n",
       "       [    7.2,     3.2,     6. ,     1.8, -1000. ],\n",
       "       [    6.2,     2.8,     4.8,     1.8, -1000. ],\n",
       "       [    6.1,     3. ,     4.9,     1.8, -1000. ],\n",
       "       [    6.4,     2.8,     5.6,     2.1, -1000. ],\n",
       "       [    7.2,     3. ,     5.8,     1.6, -1000. ],\n",
       "       [    7.4,     2.8,     6.1,     1.9, -1000. ],\n",
       "       [    7.9,     3.8,     6.4,     2. , -1000. ],\n",
       "       [    6.4,     2.8,     5.6,     2.2, -1000. ],\n",
       "       [    6.3,     2.8,     5.1,     1.5, -1000. ],\n",
       "       [    6.1,     2.6,     5.6,     1.4, -1000. ],\n",
       "       [    7.7,     3. ,     6.1,     2.3, -1000. ],\n",
       "       [    6.3,     3.4,     5.6,     2.4, -1000. ],\n",
       "       [    6.4,     3.1,     5.5,     1.8, -1000. ],\n",
       "       [    6. ,     3. ,     4.8,     1.8, -1000. ],\n",
       "       [    6.9,     3.1,     5.4,     2.1, -1000. ],\n",
       "       [    6.7,     3.1,     5.6,     2.4, -1000. ],\n",
       "       [    6.9,     3.1,     5.1,     2.3, -1000. ],\n",
       "       [    5.8,     2.7,     5.1,     1.9, -1000. ],\n",
       "       [    6.8,     3.2,     5.9,     2.3, -1000. ],\n",
       "       [    6.7,     3.3,     5.7,     2.5, -1000. ],\n",
       "       [    6.7,     3. ,     5.2,     2.3, -1000. ],\n",
       "       [    6.3,     2.5,     5. ,     1.9, -1000. ],\n",
       "       [    6.5,     3. ,     5.2,     2. , -1000. ],\n",
       "       [    6.2,     3.4,     5.4,     2.3, -1000. ],\n",
       "       [    5.9,     3. ,     5.1,     1.8, -1000. ]])"
      ]
     },
     "execution_count": 92,
     "metadata": {},
     "output_type": "execute_result"
    }
   ],
   "source": [
    "\n",
    "np.set_printoptions(suppress = True)\n",
    "dt2"
   ]
  },
  {
   "cell_type": "code",
   "execution_count": 93,
   "metadata": {},
   "outputs": [
    {
     "data": {
      "text/plain": [
       "(150, 5)"
      ]
     },
     "execution_count": 93,
     "metadata": {},
     "output_type": "execute_result"
    }
   ],
   "source": [
    "dt2.shape"
   ]
  },
  {
   "cell_type": "code",
   "execution_count": 94,
   "metadata": {},
   "outputs": [
    {
     "data": {
      "text/plain": [
       "array([[    5.1,     3.5,     1.4,     0.2, -1000. ],\n",
       "       [    4.9,     3. ,     1.4,     0.2, -1000. ],\n",
       "       [    4.7,     3.2,     1.3,     0.2, -1000. ]])"
      ]
     },
     "execution_count": 94,
     "metadata": {},
     "output_type": "execute_result"
    }
   ],
   "source": [
    "dt2[:3]"
   ]
  },
  {
   "cell_type": "markdown",
   "metadata": {},
   "source": [
    " ## concat row and column wise "
   ]
  },
  {
   "cell_type": "code",
   "execution_count": 96,
   "metadata": {},
   "outputs": [],
   "source": [
    "arrA=np.ones((4,4))\n",
    "arrB=np.zeros((4,4))"
   ]
  },
  {
   "cell_type": "code",
   "execution_count": 97,
   "metadata": {},
   "outputs": [
    {
     "data": {
      "text/plain": [
       "array([[1., 1., 1., 1.],\n",
       "       [1., 1., 1., 1.],\n",
       "       [1., 1., 1., 1.],\n",
       "       [1., 1., 1., 1.]])"
      ]
     },
     "execution_count": 97,
     "metadata": {},
     "output_type": "execute_result"
    }
   ],
   "source": [
    "arrA"
   ]
  },
  {
   "cell_type": "code",
   "execution_count": 98,
   "metadata": {},
   "outputs": [
    {
     "data": {
      "text/plain": [
       "array([[0., 0., 0., 0.],\n",
       "       [0., 0., 0., 0.],\n",
       "       [0., 0., 0., 0.],\n",
       "       [0., 0., 0., 0.]])"
      ]
     },
     "execution_count": 98,
     "metadata": {},
     "output_type": "execute_result"
    }
   ],
   "source": [
    "arrB"
   ]
  },
  {
   "cell_type": "code",
   "execution_count": 99,
   "metadata": {},
   "outputs": [],
   "source": [
    "#np.concatenate() , np.vstack(), np.r_"
   ]
  },
  {
   "cell_type": "code",
   "execution_count": 100,
   "metadata": {},
   "outputs": [
    {
     "data": {
      "text/plain": [
       "array([[1., 1., 1., 1.],\n",
       "       [1., 1., 1., 1.],\n",
       "       [1., 1., 1., 1.],\n",
       "       [1., 1., 1., 1.],\n",
       "       [0., 0., 0., 0.],\n",
       "       [0., 0., 0., 0.],\n",
       "       [0., 0., 0., 0.],\n",
       "       [0., 0., 0., 0.]])"
      ]
     },
     "execution_count": 100,
     "metadata": {},
     "output_type": "execute_result"
    }
   ],
   "source": [
    "np.concatenate([arrA,arrB],axis=0)"
   ]
  },
  {
   "cell_type": "code",
   "execution_count": 101,
   "metadata": {},
   "outputs": [
    {
     "data": {
      "text/plain": [
       "array([[1., 1., 1., 1.],\n",
       "       [1., 1., 1., 1.],\n",
       "       [1., 1., 1., 1.],\n",
       "       [1., 1., 1., 1.],\n",
       "       [0., 0., 0., 0.],\n",
       "       [0., 0., 0., 0.],\n",
       "       [0., 0., 0., 0.],\n",
       "       [0., 0., 0., 0.]])"
      ]
     },
     "execution_count": 101,
     "metadata": {},
     "output_type": "execute_result"
    }
   ],
   "source": [
    "np.vstack([arrA,arrB])"
   ]
  },
  {
   "cell_type": "code",
   "execution_count": 104,
   "metadata": {},
   "outputs": [
    {
     "data": {
      "text/plain": [
       "array([[1., 1., 1., 1.],\n",
       "       [1., 1., 1., 1.],\n",
       "       [1., 1., 1., 1.],\n",
       "       [1., 1., 1., 1.],\n",
       "       [0., 0., 0., 0.],\n",
       "       [0., 0., 0., 0.],\n",
       "       [0., 0., 0., 0.],\n",
       "       [0., 0., 0., 0.]])"
      ]
     },
     "execution_count": 104,
     "metadata": {},
     "output_type": "execute_result"
    }
   ],
   "source": [
    "np.r_[arrA,arrB]"
   ]
  },
  {
   "cell_type": "code",
   "execution_count": 105,
   "metadata": {},
   "outputs": [
    {
     "data": {
      "text/plain": [
       "array([[1., 1., 1., 1., 0., 0., 0., 0.],\n",
       "       [1., 1., 1., 1., 0., 0., 0., 0.],\n",
       "       [1., 1., 1., 1., 0., 0., 0., 0.],\n",
       "       [1., 1., 1., 1., 0., 0., 0., 0.]])"
      ]
     },
     "execution_count": 105,
     "metadata": {},
     "output_type": "execute_result"
    }
   ],
   "source": [
    "np.concatenate([arrA,arrB],axis=1)"
   ]
  },
  {
   "cell_type": "code",
   "execution_count": 106,
   "metadata": {},
   "outputs": [
    {
     "data": {
      "text/plain": [
       "array([[1., 1., 1., 1., 0., 0., 0., 0.],\n",
       "       [1., 1., 1., 1., 0., 0., 0., 0.],\n",
       "       [1., 1., 1., 1., 0., 0., 0., 0.],\n",
       "       [1., 1., 1., 1., 0., 0., 0., 0.]])"
      ]
     },
     "execution_count": 106,
     "metadata": {},
     "output_type": "execute_result"
    }
   ],
   "source": [
    "np.hstack([arrA,arrB])"
   ]
  },
  {
   "cell_type": "code",
   "execution_count": 107,
   "metadata": {},
   "outputs": [
    {
     "data": {
      "text/plain": [
       "array([[1., 1., 1., 1., 0., 0., 0., 0.],\n",
       "       [1., 1., 1., 1., 0., 0., 0., 0.],\n",
       "       [1., 1., 1., 1., 0., 0., 0., 0.],\n",
       "       [1., 1., 1., 1., 0., 0., 0., 0.]])"
      ]
     },
     "execution_count": 107,
     "metadata": {},
     "output_type": "execute_result"
    }
   ],
   "source": [
    "np.c_[arrA,arrB]"
   ]
  },
  {
   "cell_type": "markdown",
   "metadata": {},
   "source": [
    "## sort a numpy array"
   ]
  },
  {
   "cell_type": "code",
   "execution_count": 112,
   "metadata": {},
   "outputs": [
    {
     "data": {
      "text/plain": [
       "array([[9, 2, 7],\n",
       "       [8, 8, 9],\n",
       "       [2, 6, 9],\n",
       "       [5, 4, 1]])"
      ]
     },
     "execution_count": 112,
     "metadata": {},
     "output_type": "execute_result"
    }
   ],
   "source": [
    "arr=np.random.randint(1,10,size=[4,3])\n",
    "arr"
   ]
  },
  {
   "cell_type": "code",
   "execution_count": 113,
   "metadata": {},
   "outputs": [
    {
     "data": {
      "text/plain": [
       "array([[2, 2, 1],\n",
       "       [5, 4, 7],\n",
       "       [8, 6, 9],\n",
       "       [9, 8, 9]])"
      ]
     },
     "execution_count": 113,
     "metadata": {},
     "output_type": "execute_result"
    }
   ],
   "source": [
    "np.sort(arr,axis=0)"
   ]
  },
  {
   "cell_type": "code",
   "execution_count": 114,
   "metadata": {},
   "outputs": [
    {
     "data": {
      "text/plain": [
       "array([[2, 7, 9],\n",
       "       [8, 8, 9],\n",
       "       [2, 6, 9],\n",
       "       [1, 4, 5]])"
      ]
     },
     "execution_count": 114,
     "metadata": {},
     "output_type": "execute_result"
    }
   ],
   "source": [
    "np.sort(arr,axis=1)"
   ]
  },
  {
   "cell_type": "code",
   "execution_count": 117,
   "metadata": {},
   "outputs": [
    {
     "data": {
      "text/plain": [
       "array([3, 0, 1, 2], dtype=int64)"
      ]
     },
     "execution_count": 117,
     "metadata": {},
     "output_type": "execute_result"
    }
   ],
   "source": [
    "arr[:,2].argsort()"
   ]
  },
  {
   "cell_type": "markdown",
   "metadata": {},
   "source": [
    "## working with  data"
   ]
  },
  {
   "cell_type": "code",
   "execution_count": 121,
   "metadata": {},
   "outputs": [
    {
     "data": {
      "text/plain": [
       "numpy.datetime64('2020-07-28T23:56:00')"
      ]
     },
     "execution_count": 121,
     "metadata": {},
     "output_type": "execute_result"
    }
   ],
   "source": [
    "d=np.datetime64('2020-07-28 23:56:00')\n",
    "d"
   ]
  },
  {
   "cell_type": "code",
   "execution_count": 122,
   "metadata": {},
   "outputs": [],
   "source": [
    "oneday=np.timedelta64(1,'D')"
   ]
  },
  {
   "cell_type": "code",
   "execution_count": 123,
   "metadata": {},
   "outputs": [
    {
     "data": {
      "text/plain": [
       "numpy.timedelta64(1,'D')"
      ]
     },
     "execution_count": 123,
     "metadata": {},
     "output_type": "execute_result"
    }
   ],
   "source": [
    "oneday"
   ]
  },
  {
   "cell_type": "code",
   "execution_count": 124,
   "metadata": {},
   "outputs": [
    {
     "data": {
      "text/plain": [
       "numpy.datetime64('2020-07-29T23:56:00')"
      ]
     },
     "execution_count": 124,
     "metadata": {},
     "output_type": "execute_result"
    }
   ],
   "source": [
    "d + oneday"
   ]
  },
  {
   "cell_type": "code",
   "execution_count": 125,
   "metadata": {},
   "outputs": [],
   "source": [
    "oneminute=oneday=np.timedelta64(1,'m')"
   ]
  },
  {
   "cell_type": "code",
   "execution_count": 126,
   "metadata": {},
   "outputs": [
    {
     "data": {
      "text/plain": [
       "numpy.datetime64('2020-07-28T23:57:00')"
      ]
     },
     "execution_count": 126,
     "metadata": {},
     "output_type": "execute_result"
    }
   ],
   "source": [
    "d+oneminute"
   ]
  },
  {
   "cell_type": "code",
   "execution_count": 127,
   "metadata": {},
   "outputs": [],
   "source": [
    "onehour=np.timedelta64(1,'h')"
   ]
  },
  {
   "cell_type": "code",
   "execution_count": 128,
   "metadata": {},
   "outputs": [
    {
     "data": {
      "text/plain": [
       "numpy.datetime64('2020-07-29T00:56:00')"
      ]
     },
     "execution_count": 128,
     "metadata": {},
     "output_type": "execute_result"
    }
   ],
   "source": [
    "d+onehour"
   ]
  },
  {
   "cell_type": "code",
   "execution_count": 129,
   "metadata": {},
   "outputs": [],
   "source": [
    "dates=np.arange(np.datetime64('2019-06-02'),np.datetime64('2020-06-02'))"
   ]
  },
  {
   "cell_type": "code",
   "execution_count": 130,
   "metadata": {},
   "outputs": [
    {
     "data": {
      "text/plain": [
       "array(['2019-06-02', '2019-06-03', '2019-06-04', '2019-06-05',\n",
       "       '2019-06-06', '2019-06-07', '2019-06-08', '2019-06-09',\n",
       "       '2019-06-10', '2019-06-11', '2019-06-12', '2019-06-13',\n",
       "       '2019-06-14', '2019-06-15', '2019-06-16', '2019-06-17',\n",
       "       '2019-06-18', '2019-06-19', '2019-06-20', '2019-06-21',\n",
       "       '2019-06-22', '2019-06-23', '2019-06-24', '2019-06-25',\n",
       "       '2019-06-26', '2019-06-27', '2019-06-28', '2019-06-29',\n",
       "       '2019-06-30', '2019-07-01', '2019-07-02', '2019-07-03',\n",
       "       '2019-07-04', '2019-07-05', '2019-07-06', '2019-07-07',\n",
       "       '2019-07-08', '2019-07-09', '2019-07-10', '2019-07-11',\n",
       "       '2019-07-12', '2019-07-13', '2019-07-14', '2019-07-15',\n",
       "       '2019-07-16', '2019-07-17', '2019-07-18', '2019-07-19',\n",
       "       '2019-07-20', '2019-07-21', '2019-07-22', '2019-07-23',\n",
       "       '2019-07-24', '2019-07-25', '2019-07-26', '2019-07-27',\n",
       "       '2019-07-28', '2019-07-29', '2019-07-30', '2019-07-31',\n",
       "       '2019-08-01', '2019-08-02', '2019-08-03', '2019-08-04',\n",
       "       '2019-08-05', '2019-08-06', '2019-08-07', '2019-08-08',\n",
       "       '2019-08-09', '2019-08-10', '2019-08-11', '2019-08-12',\n",
       "       '2019-08-13', '2019-08-14', '2019-08-15', '2019-08-16',\n",
       "       '2019-08-17', '2019-08-18', '2019-08-19', '2019-08-20',\n",
       "       '2019-08-21', '2019-08-22', '2019-08-23', '2019-08-24',\n",
       "       '2019-08-25', '2019-08-26', '2019-08-27', '2019-08-28',\n",
       "       '2019-08-29', '2019-08-30', '2019-08-31', '2019-09-01',\n",
       "       '2019-09-02', '2019-09-03', '2019-09-04', '2019-09-05',\n",
       "       '2019-09-06', '2019-09-07', '2019-09-08', '2019-09-09',\n",
       "       '2019-09-10', '2019-09-11', '2019-09-12', '2019-09-13',\n",
       "       '2019-09-14', '2019-09-15', '2019-09-16', '2019-09-17',\n",
       "       '2019-09-18', '2019-09-19', '2019-09-20', '2019-09-21',\n",
       "       '2019-09-22', '2019-09-23', '2019-09-24', '2019-09-25',\n",
       "       '2019-09-26', '2019-09-27', '2019-09-28', '2019-09-29',\n",
       "       '2019-09-30', '2019-10-01', '2019-10-02', '2019-10-03',\n",
       "       '2019-10-04', '2019-10-05', '2019-10-06', '2019-10-07',\n",
       "       '2019-10-08', '2019-10-09', '2019-10-10', '2019-10-11',\n",
       "       '2019-10-12', '2019-10-13', '2019-10-14', '2019-10-15',\n",
       "       '2019-10-16', '2019-10-17', '2019-10-18', '2019-10-19',\n",
       "       '2019-10-20', '2019-10-21', '2019-10-22', '2019-10-23',\n",
       "       '2019-10-24', '2019-10-25', '2019-10-26', '2019-10-27',\n",
       "       '2019-10-28', '2019-10-29', '2019-10-30', '2019-10-31',\n",
       "       '2019-11-01', '2019-11-02', '2019-11-03', '2019-11-04',\n",
       "       '2019-11-05', '2019-11-06', '2019-11-07', '2019-11-08',\n",
       "       '2019-11-09', '2019-11-10', '2019-11-11', '2019-11-12',\n",
       "       '2019-11-13', '2019-11-14', '2019-11-15', '2019-11-16',\n",
       "       '2019-11-17', '2019-11-18', '2019-11-19', '2019-11-20',\n",
       "       '2019-11-21', '2019-11-22', '2019-11-23', '2019-11-24',\n",
       "       '2019-11-25', '2019-11-26', '2019-11-27', '2019-11-28',\n",
       "       '2019-11-29', '2019-11-30', '2019-12-01', '2019-12-02',\n",
       "       '2019-12-03', '2019-12-04', '2019-12-05', '2019-12-06',\n",
       "       '2019-12-07', '2019-12-08', '2019-12-09', '2019-12-10',\n",
       "       '2019-12-11', '2019-12-12', '2019-12-13', '2019-12-14',\n",
       "       '2019-12-15', '2019-12-16', '2019-12-17', '2019-12-18',\n",
       "       '2019-12-19', '2019-12-20', '2019-12-21', '2019-12-22',\n",
       "       '2019-12-23', '2019-12-24', '2019-12-25', '2019-12-26',\n",
       "       '2019-12-27', '2019-12-28', '2019-12-29', '2019-12-30',\n",
       "       '2019-12-31', '2020-01-01', '2020-01-02', '2020-01-03',\n",
       "       '2020-01-04', '2020-01-05', '2020-01-06', '2020-01-07',\n",
       "       '2020-01-08', '2020-01-09', '2020-01-10', '2020-01-11',\n",
       "       '2020-01-12', '2020-01-13', '2020-01-14', '2020-01-15',\n",
       "       '2020-01-16', '2020-01-17', '2020-01-18', '2020-01-19',\n",
       "       '2020-01-20', '2020-01-21', '2020-01-22', '2020-01-23',\n",
       "       '2020-01-24', '2020-01-25', '2020-01-26', '2020-01-27',\n",
       "       '2020-01-28', '2020-01-29', '2020-01-30', '2020-01-31',\n",
       "       '2020-02-01', '2020-02-02', '2020-02-03', '2020-02-04',\n",
       "       '2020-02-05', '2020-02-06', '2020-02-07', '2020-02-08',\n",
       "       '2020-02-09', '2020-02-10', '2020-02-11', '2020-02-12',\n",
       "       '2020-02-13', '2020-02-14', '2020-02-15', '2020-02-16',\n",
       "       '2020-02-17', '2020-02-18', '2020-02-19', '2020-02-20',\n",
       "       '2020-02-21', '2020-02-22', '2020-02-23', '2020-02-24',\n",
       "       '2020-02-25', '2020-02-26', '2020-02-27', '2020-02-28',\n",
       "       '2020-02-29', '2020-03-01', '2020-03-02', '2020-03-03',\n",
       "       '2020-03-04', '2020-03-05', '2020-03-06', '2020-03-07',\n",
       "       '2020-03-08', '2020-03-09', '2020-03-10', '2020-03-11',\n",
       "       '2020-03-12', '2020-03-13', '2020-03-14', '2020-03-15',\n",
       "       '2020-03-16', '2020-03-17', '2020-03-18', '2020-03-19',\n",
       "       '2020-03-20', '2020-03-21', '2020-03-22', '2020-03-23',\n",
       "       '2020-03-24', '2020-03-25', '2020-03-26', '2020-03-27',\n",
       "       '2020-03-28', '2020-03-29', '2020-03-30', '2020-03-31',\n",
       "       '2020-04-01', '2020-04-02', '2020-04-03', '2020-04-04',\n",
       "       '2020-04-05', '2020-04-06', '2020-04-07', '2020-04-08',\n",
       "       '2020-04-09', '2020-04-10', '2020-04-11', '2020-04-12',\n",
       "       '2020-04-13', '2020-04-14', '2020-04-15', '2020-04-16',\n",
       "       '2020-04-17', '2020-04-18', '2020-04-19', '2020-04-20',\n",
       "       '2020-04-21', '2020-04-22', '2020-04-23', '2020-04-24',\n",
       "       '2020-04-25', '2020-04-26', '2020-04-27', '2020-04-28',\n",
       "       '2020-04-29', '2020-04-30', '2020-05-01', '2020-05-02',\n",
       "       '2020-05-03', '2020-05-04', '2020-05-05', '2020-05-06',\n",
       "       '2020-05-07', '2020-05-08', '2020-05-09', '2020-05-10',\n",
       "       '2020-05-11', '2020-05-12', '2020-05-13', '2020-05-14',\n",
       "       '2020-05-15', '2020-05-16', '2020-05-17', '2020-05-18',\n",
       "       '2020-05-19', '2020-05-20', '2020-05-21', '2020-05-22',\n",
       "       '2020-05-23', '2020-05-24', '2020-05-25', '2020-05-26',\n",
       "       '2020-05-27', '2020-05-28', '2020-05-29', '2020-05-30',\n",
       "       '2020-05-31', '2020-06-01'], dtype='datetime64[D]')"
      ]
     },
     "execution_count": 130,
     "metadata": {},
     "output_type": "execute_result"
    }
   ],
   "source": [
    "dates"
   ]
  },
  {
   "cell_type": "code",
   "execution_count": 131,
   "metadata": {},
   "outputs": [
    {
     "data": {
      "text/plain": [
       "10.0"
      ]
     },
     "execution_count": 131,
     "metadata": {},
     "output_type": "execute_result"
    }
   ],
   "source": [
    "def foo(x):\n",
    "    if x%2 == 1:\n",
    "        return x**2\n",
    "    else:\n",
    "        return x/2\n",
    "    \n",
    "foo(20)"
   ]
  },
  {
   "cell_type": "code",
   "execution_count": 132,
   "metadata": {},
   "outputs": [
    {
     "data": {
      "text/plain": [
       "121"
      ]
     },
     "execution_count": 132,
     "metadata": {},
     "output_type": "execute_result"
    }
   ],
   "source": [
    "foo(11)"
   ]
  },
  {
   "cell_type": "code",
   "execution_count": 133,
   "metadata": {},
   "outputs": [],
   "source": [
    "foo_v = np.vectorize(foo, otypes = [float])"
   ]
  },
  {
   "cell_type": "code",
   "execution_count": 134,
   "metadata": {},
   "outputs": [
    {
     "data": {
      "text/plain": [
       "array([[81.,  1., 49.],\n",
       "       [ 4.,  4., 81.],\n",
       "       [ 1.,  3., 81.],\n",
       "       [25.,  2.,  1.]])"
      ]
     },
     "execution_count": 134,
     "metadata": {},
     "output_type": "execute_result"
    }
   ],
   "source": [
    "foo_v(arr)"
   ]
  }
 ],
 "metadata": {
  "kernelspec": {
   "display_name": "Python 3",
   "language": "python",
   "name": "python3"
  },
  "language_info": {
   "codemirror_mode": {
    "name": "ipython",
    "version": 3
   },
   "file_extension": ".py",
   "mimetype": "text/x-python",
   "name": "python",
   "nbconvert_exporter": "python",
   "pygments_lexer": "ipython3",
   "version": "3.7.6"
  }
 },
 "nbformat": 4,
 "nbformat_minor": 4
}
